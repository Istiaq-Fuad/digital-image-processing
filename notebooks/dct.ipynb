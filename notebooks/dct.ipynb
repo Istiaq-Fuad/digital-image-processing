{
 "cells": [
  {
   "cell_type": "code",
   "execution_count": null,
   "id": "32b300b8",
   "metadata": {},
   "outputs": [
    {
     "ename": "ModuleNotFoundError",
     "evalue": "No module named 'pywt'",
     "output_type": "error",
     "traceback": [
      "\u001b[0;31m---------------------------------------------------------------------------\u001b[0m",
      "\u001b[0;31mModuleNotFoundError\u001b[0m                       Traceback (most recent call last)",
      "Cell \u001b[0;32mIn[2], line 5\u001b[0m\n\u001b[1;32m      3\u001b[0m \u001b[38;5;28;01mimport\u001b[39;00m\u001b[38;5;250m \u001b[39m\u001b[38;5;21;01mcv2\u001b[39;00m\u001b[38;5;250m \u001b[39m\u001b[38;5;28;01mas\u001b[39;00m\u001b[38;5;250m \u001b[39m\u001b[38;5;21;01mcv\u001b[39;00m\n\u001b[1;32m      4\u001b[0m \u001b[38;5;28;01mimport\u001b[39;00m\u001b[38;5;250m \u001b[39m\u001b[38;5;21;01mos\u001b[39;00m\n\u001b[0;32m----> 5\u001b[0m \u001b[38;5;28;01mimport\u001b[39;00m\u001b[38;5;250m \u001b[39m\u001b[38;5;21;01mpywt\u001b[39;00m\n\u001b[1;32m      8\u001b[0m img \u001b[38;5;241m=\u001b[39m cv\u001b[38;5;241m.\u001b[39mimread(\u001b[38;5;124m\"\u001b[39m\u001b[38;5;124mimages/sunflower.png\u001b[39m\u001b[38;5;124m\"\u001b[39m, cv\u001b[38;5;241m.\u001b[39mIMREAD_GRAYSCALE)\n",
      "\u001b[0;31mModuleNotFoundError\u001b[0m: No module named 'pywt'"
     ]
    }
   ],
   "source": [
    "import numpy as np\n",
    "import matplotlib.pyplot as plt\n",
    "import cv2 as cv\n",
    "import pywt\n",
    "\n",
    "\n",
    "img = cv.imread(\"images/sunflower.png\", cv.IMREAD_GRAYSCALE)"
   ]
  },
  {
   "cell_type": "code",
   "execution_count": null,
   "id": "dfbce920",
   "metadata": {},
   "outputs": [],
   "source": [
    "dct = cv.dct(np.float32(img))\n",
    "LL,(LH, HL, HH) = pywt.dwt2(img,'haar')\n",
    "\n",
    "plt.figure(figsize=(15,15))\n",
    "plt.subplot(3,2,1), plt.imshow(img, cmap='gray')\n",
    "plt.title(\"Original Image\"), plt.axis('off')\n",
    "plt.subplot(3,2,2), plt.imshow(np.log(np.abs(dct)+1), cmap='gray')\n",
    "plt.title(\"DCT of Image\"), plt.axis('off')\n",
    "plt.subplot(3,2,3), plt.imshow(LL, cmap='gray')\n",
    "plt.title(\"DWT - LL\"), plt.axis('off')\n",
    "plt.subplot(3,2,4), plt.imshow(LH, cmap='gray')\n",
    "plt.title(\"DWT - LH\"), plt.axis('off')\n",
    "plt.subplot(3,2,5), plt.imshow(HL, cmap='gray')\n",
    "plt.title(\"DWT - HL\"), plt.axis('off')\n",
    "plt.subplot(3,2,6), plt.imshow(HH, cmap='gray')\n",
    "plt.title(\"DWT - HH\"), plt.axis('off')\n",
    "\n",
    "plt.tight_layout()\n",
    "plt.show()"
   ]
  },
  {
   "cell_type": "code",
   "execution_count": null,
   "id": "f80fc7f9",
   "metadata": {},
   "outputs": [],
   "source": [
    "plt.figure(figsize=(10,10))\n",
    "plt.subplot(4,2,1), plt.hist(img.ravel(), bins=256, color='gray')\n",
    "plt.title(\"Original Image Histogram\")\n",
    "plt.subplot(4,2,2), plt.hist(np.log(np.abs(dct)+1).ravel(), bins=256, color='gray')\n",
    "plt.title(\"DCT Histogram\")\n",
    "plt.subplot(4,2,3), plt.hist(LL.ravel(), bins=256, color='gray')\n",
    "plt.title(\"DWT - LL Histogram\") \n",
    "plt.subplot(4,2,4), plt.hist(HH.ravel(), bins=256, color='gray')\n",
    "plt.title(\"DWT - HH Histogram\")\n",
    "\n",
    "plt.subplot(4,2,5), plt.hist(LH.ravel(), bins=256, color='gray')\n",
    "plt.title(\"DWT - LH Histogram\")\n",
    "plt.subplot(4,2,6), plt.hist(HL.ravel(), bins=256, color='gray')\n",
    "plt.title(\"DWT - HL Histogram\")\n",
    "plt.tight_layout()\n",
    "plt.show()"
   ]
  }
 ],
 "metadata": {
  "kernelspec": {
   "display_name": "dip",
   "language": "python",
   "name": "python3"
  },
  "language_info": {
   "codemirror_mode": {
    "name": "ipython",
    "version": 3
   },
   "file_extension": ".py",
   "mimetype": "text/x-python",
   "name": "python",
   "nbconvert_exporter": "python",
   "pygments_lexer": "ipython3",
   "version": "3.10.16"
  }
 },
 "nbformat": 4,
 "nbformat_minor": 5
}
